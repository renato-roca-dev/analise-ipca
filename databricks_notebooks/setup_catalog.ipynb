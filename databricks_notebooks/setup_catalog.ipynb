{
 "cells": [
  {
   "cell_type": "markdown",
   "metadata": {
    "application/vnd.databricks.v1+cell": {
     "cellMetadata": {
      "byteLimit": 2048000,
      "rowLimit": 10000
     },
     "inputWidgets": {},
     "nuid": "b7646be0-bf90-4731-85e9-70615edf0078",
     "showTitle": false,
     "tableResultSettingsMap": {},
     "title": ""
    }
   },
   "source": [
    "# Setup da Infraestrutura no Unity Catalog\n",
    "\n",
    "Este notebook executa os comandos DDL (Data Definition Language) para criar a estrutura de governança do projeto no Unity Catalog.\n",
    "\n",
    "**Responsabilidades:**\n",
    "* Criar o Catálogo principal do projeto.\n",
    "* Definir os Schemas da arquitetura Medallion (Bronze, Silver, Gold).\n",
    "* Garantir que o usuário executor tenha todas as permissões necessárias.\n",
    "\n",
    "**Frequência de Execução:**\n",
    "Este script deve ser executado apenas **uma vez** durante o setup inicial do projeto ou quando houver necessidade de recriar a infraestrutura."
   ]
  },
  {
   "cell_type": "markdown",
   "metadata": {
    "application/vnd.databricks.v1+cell": {
     "cellMetadata": {
      "byteLimit": 2048000,
      "rowLimit": 10000
     },
     "inputWidgets": {},
     "nuid": "e1ad5e0b-f191-43cb-a1be-71b6fa588197",
     "showTitle": false,
     "tableResultSettingsMap": {},
     "title": ""
    }
   },
   "source": [
    "### 1 - Criar o Catálogo e parâmetro de usuário"
   ]
  },
  {
   "cell_type": "code",
   "execution_count": 0,
   "metadata": {
    "application/vnd.databricks.v1+cell": {
     "cellMetadata": {
      "byteLimit": 2048000,
      "rowLimit": 10000
     },
     "inputWidgets": {},
     "nuid": "9dd9e1c2-3594-4a03-a654-08c162fe7a79",
     "showTitle": false,
     "tableResultSettingsMap": {},
     "title": ""
    }
   },
   "outputs": [],
   "source": [
    "%sql\n",
    "CREATE CATALOG IF NOT EXISTS banco_ip2ca_catalog;"
   ]
  },
  {
   "cell_type": "markdown",
   "metadata": {
    "application/vnd.databricks.v1+cell": {
     "cellMetadata": {
      "byteLimit": 2048000,
      "rowLimit": 10000
     },
     "inputWidgets": {},
     "nuid": "6a811bb6-72b4-4218-a0a1-36cf0e79cadb",
     "showTitle": false,
     "tableResultSettingsMap": {},
     "title": ""
    }
   },
   "source": [
    "### 2 - Definir o Proprietário"
   ]
  },
  {
   "cell_type": "code",
   "execution_count": 0,
   "metadata": {
    "application/vnd.databricks.v1+cell": {
     "cellMetadata": {
      "byteLimit": 2048000,
      "implicitDf": true,
      "rowLimit": 10000
     },
     "inputWidgets": {},
     "nuid": "a55a0aab-6933-4c76-a9cb-b8abf3e69aed",
     "showTitle": false,
     "tableResultSettingsMap": {},
     "title": ""
    }
   },
   "outputs": [],
   "source": [
    "%sql\n",
    "ALTER CATALOG banco_ip2ca_catalog OWNER TO `renatorocacolette@gmail.com`;"
   ]
  },
  {
   "cell_type": "markdown",
   "metadata": {
    "application/vnd.databricks.v1+cell": {
     "cellMetadata": {
      "byteLimit": 2048000,
      "rowLimit": 10000
     },
     "inputWidgets": {},
     "nuid": "6c74cc12-d3bb-4c3f-a4a7-60c9d7471f3c",
     "showTitle": false,
     "tableResultSettingsMap": {},
     "title": ""
    }
   },
   "source": [
    "### 3 - Ativar o Catálogo"
   ]
  },
  {
   "cell_type": "code",
   "execution_count": 0,
   "metadata": {
    "application/vnd.databricks.v1+cell": {
     "cellMetadata": {
      "byteLimit": 2048000,
      "implicitDf": true,
      "rowLimit": 10000
     },
     "inputWidgets": {},
     "nuid": "51f1ad3e-0072-489f-b858-9eed7a61fd4c",
     "showTitle": false,
     "tableResultSettingsMap": {},
     "title": ""
    }
   },
   "outputs": [],
   "source": [
    "%sql\n",
    "USE CATALOG banco_ip2ca_catalog;"
   ]
  },
  {
   "cell_type": "markdown",
   "metadata": {
    "application/vnd.databricks.v1+cell": {
     "cellMetadata": {
      "byteLimit": 2048000,
      "rowLimit": 10000
     },
     "inputWidgets": {},
     "nuid": "ab8b684a-c8c6-4288-9fc5-c149d2eadfd3",
     "showTitle": false,
     "tableResultSettingsMap": {},
     "title": ""
    }
   },
   "source": [
    "### 4 - Criar os Schemas (Medallion)\n",
    "\n",
    "* **bronze:** Para dados brutos, sem tratamento.\n",
    "* **silver:** Para dados limpos, validados e enriquecidos.\n",
    "* **gold:** Para dados agregados, prontos para consumo e análise."
   ]
  },
  {
   "cell_type": "code",
   "execution_count": 0,
   "metadata": {
    "application/vnd.databricks.v1+cell": {
     "cellMetadata": {
      "byteLimit": 2048000,
      "implicitDf": true,
      "rowLimit": 10000
     },
     "inputWidgets": {},
     "nuid": "6c72385f-bbd2-4193-85cb-57c1691ff3cc",
     "showTitle": false,
     "tableResultSettingsMap": {},
     "title": ""
    }
   },
   "outputs": [],
   "source": [
    "%sql\n",
    "CREATE SCHEMA IF NOT EXISTS bronze;\n",
    "CREATE SCHEMA IF NOT EXISTS silver;\n",
    "CREATE SCHEMA IF NOT EXISTS gold;"
   ]
  },
  {
   "cell_type": "markdown",
   "metadata": {
    "application/vnd.databricks.v1+cell": {
     "cellMetadata": {
      "byteLimit": 2048000,
      "rowLimit": 10000
     },
     "inputWidgets": {},
     "nuid": "b9cb7135-fa97-44ec-8b43-668548b8634e",
     "showTitle": false,
     "tableResultSettingsMap": {},
     "title": ""
    }
   },
   "source": [
    "### 5 - Conceder Privilégios"
   ]
  },
  {
   "cell_type": "code",
   "execution_count": 0,
   "metadata": {
    "application/vnd.databricks.v1+cell": {
     "cellMetadata": {
      "byteLimit": 2048000,
      "implicitDf": true,
      "rowLimit": 10000
     },
     "inputWidgets": {},
     "nuid": "bfe6dbb0-1f71-478f-9c8c-fc41a97da160",
     "showTitle": false,
     "tableResultSettingsMap": {},
     "title": ""
    }
   },
   "outputs": [],
   "source": [
    "%sql\n",
    "GRANT ALL PRIVILEGES ON CATALOG banco_ip2ca_catalog TO `renatorocacolette@gmail.com`;\n",
    "\n",
    "GRANT ALL PRIVILEGES ON SCHEMA banco_ip2ca_catalog.bronze TO `renatorocacolette@gmail.com`;\n",
    "GRANT ALL PRIVILEGES ON SCHEMA banco_ip2ca_catalog.silver TO `renatorocacolette@gmail.com`;\n",
    "GRANT ALL PRIVILEGES ON SCHEMA banco_ip2ca_catalog.gold TO `renatorocacolette@gmail.com`;"
   ]
  }
 ],
 "metadata": {
  "application/vnd.databricks.v1+notebook": {
   "computePreferences": null,
   "dashboards": [],
   "environmentMetadata": {
    "base_environment": "",
    "environment_version": "2"
   },
   "inputWidgetPreferences": null,
   "language": "sql",
   "notebookMetadata": {
    "mostRecentlyExecutedCommandWithImplicitDF": {
     "commandId": -1,
     "dataframes": [
      "_sqldf"
     ]
    },
    "pythonIndentUnit": 4
   },
   "notebookName": "setup_catalog",
   "widgets": {
    "usuario_proprietario": {
     "currentValue": "renatorocacolette@gmail.com",
     "nuid": "8de8befe-f26d-4eae-999a-6a3d23dd6e89",
     "typedWidgetInfo": {
      "autoCreated": false,
      "defaultValue": "renatorocacolette@gmail.com",
      "label": null,
      "name": "usuario_proprietario",
      "options": {
       "widgetDisplayType": "Text",
       "validationRegex": null
      },
      "parameterDataType": "String"
     },
     "widgetInfo": {
      "widgetType": "text",
      "defaultValue": "renatorocacolette@gmail.com",
      "label": null,
      "name": "usuario_proprietario",
      "options": {
       "widgetType": "text",
       "autoCreated": null,
       "validationRegex": null
      }
     }
    }
   }
  },
  "language_info": {
   "name": "sql"
  }
 },
 "nbformat": 4,
 "nbformat_minor": 0
}