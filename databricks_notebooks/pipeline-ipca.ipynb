{
 "cells": [
  {
   "cell_type": "markdown",
   "metadata": {
    "application/vnd.databricks.v1+cell": {
     "cellMetadata": {
      "byteLimit": 2048000,
      "rowLimit": 10000
     },
     "inputWidgets": {},
     "nuid": "f485238e-3836-4727-bcf4-b805e67d7927",
     "showTitle": false,
     "tableResultSettingsMap": {},
     "title": ""
    }
   },
   "source": [
    "# Pipeline IPCA - BCB\n",
    "\n",
    "**Objetivo:** Automatizar a captura e o processamento do IPCA do Banco Central\n",
    "- **Fonte:** API do BCB (Série 433)\n",
    "- **Saída:** Tabelas Delta na camada Gold para o Power BI\n",
    "- **Arquitetura:** Medallion"
   ]
  },
  {
   "cell_type": "markdown",
   "metadata": {
    "application/vnd.databricks.v1+cell": {
     "cellMetadata": {
      "byteLimit": 2048000,
      "rowLimit": 10000
     },
     "inputWidgets": {},
     "nuid": "3a5f51d4-9bfe-4c2f-a6b5-d046274d4add",
     "showTitle": false,
     "tableResultSettingsMap": {},
     "title": ""
    }
   },
   "source": [
    "## Setup e Parâmetros\n",
    "\n",
    "Setup inicial com imports e definição dos parâmetros\n",
    "Uso widgets para não deixar nada estático (caminhos, URLs), facilitando a execução em outros ambientes (dev/prod)"
   ]
  },
  {
   "cell_type": "code",
   "execution_count": 0,
   "metadata": {
    "application/vnd.databricks.v1+cell": {
     "cellMetadata": {
      "byteLimit": 2048000,
      "rowLimit": 10000
     },
     "inputWidgets": {},
     "nuid": "c121fe83-30be-4142-852d-cb24a664879e",
     "showTitle": false,
     "tableResultSettingsMap": {},
     "title": ""
    }
   },
   "outputs": [
    {
     "output_type": "stream",
     "name": "stdout",
     "output_type": "stream",
     "text": [
      "URL da API: https://api.bcb.gov.br/dados/serie/bcdata.sgs.433/dados?formato=json\nSalvando tabelas no Catálogo: banco_ip2ca_catalog\nHistórico de: 30 anos\n"
     ]
    }
   ],
   "source": [
    "# Importação libs\n",
    "from pyspark.sql import SparkSession\n",
    "from pyspark.sql.functions import col, year, expr, lit\n",
    "import requests\n",
    "import pandas as pd\n",
    "from datetime import datetime\n",
    "\n",
    "# Definição Parâmetros\n",
    "dbutils.widgets.text(\"api_url\", \"https://api.bcb.gov.br/dados/serie/bcdata.sgs.433/dados?formato=json\", \"URL da API do BCB para IPCA\")\n",
    "dbutils.widgets.text(\"base_path\", \"/mnt/banco_ip2ca/ipca\", \"Caminho base no DBFS para as tabelas Delta\")\n",
    "dbutils.widgets.text(\"anos_historia\", \"30\", \"Anos a serem processados\")\n",
    "\n",
    "# Leitura Parâmetros\n",
    "API_URL = dbutils.widgets.get(\"api_url\")\n",
    "ANOS_HISTORIA = int(dbutils.widgets.get(\"anos_historia\"))\n",
    "\n",
    "CATALOG = \"banco_ip2ca_catalog\"\n",
    "SCHEMA_BRONZE = \"bronze\"\n",
    "SCHEMA_SILVER = \"silver\"\n",
    "SCHEMA_GOLD = \"gold\"\n",
    "\n",
    "print(f\"URL da API: {API_URL}\")\n",
    "print(f\"Salvando tabelas no Catálogo: {CATALOG}\")\n",
    "print(f\"Histórico de: {ANOS_HISTORIA} anos\")"
   ]
  },
  {
   "cell_type": "markdown",
   "metadata": {
    "application/vnd.databricks.v1+cell": {
     "cellMetadata": {
      "byteLimit": 2048000,
      "rowLimit": 10000
     },
     "inputWidgets": {},
     "nuid": "65c74186-ed2f-44e2-906e-bf5007d1d4cb",
     "showTitle": false,
     "tableResultSettingsMap": {},
     "title": ""
    }
   },
   "source": [
    "## 1 - Funções Helper\n",
    "\n",
    "Funções para buscar dados da API e salvar em Delta. Isola a lógica e evita repetição de código"
   ]
  },
  {
   "cell_type": "code",
   "execution_count": 0,
   "metadata": {
    "application/vnd.databricks.v1+cell": {
     "cellMetadata": {
      "byteLimit": 2048000,
      "rowLimit": 10000
     },
     "inputWidgets": {},
     "nuid": "625cf000-cb24-40ee-82d8-3ee33f2ed492",
     "showTitle": false,
     "tableResultSettingsMap": {},
     "title": ""
    }
   },
   "outputs": [],
   "source": [
    "def fetch_data_from_api(api_url: str) -> pd.DataFrame:\n",
    "    # Busca os dados da API do Banco Central, realiza validações e os retorna como um DataFrame usando Pandas, a função inclui tratamento de erros para garantir a robustez do pipeline\n",
    "    try:\n",
    "        response = requests.get(api_url, timeout=30)\n",
    "        response.raise_for_status()\n",
    "        data = response.json()\n",
    "        if not data:\n",
    "            raise ValueError(\"A API retornou resposta vazia\")\n",
    "        \n",
    "        df = pd.DataFrame(data)\n",
    "        df['data'] = pd.to_datetime(df['data'], dayfirst=True)\n",
    "        df['valor'] = pd.to_numeric(df['valor'], errors='coerce').fillna(0.0) \n",
    "        return df\n",
    "    except requests.exceptions.RequestException as e:\n",
    "        print(f\"Falha ao acessar a API em {api_url}. Motivos: {e}\")\n",
    "        raise\n",
    "    except (ValueError, KeyError) as e:\n",
    "        print(f\"Falha no processamento dos dados da API. Motivos: {e}\")\n",
    "        raise"
   ]
  },
  {
   "cell_type": "markdown",
   "metadata": {
    "application/vnd.databricks.v1+cell": {
     "cellMetadata": {
      "byteLimit": 2048000,
      "rowLimit": 10000
     },
     "inputWidgets": {},
     "nuid": "2ef0e9cc-f79e-45ab-8820-784afefbd732",
     "showTitle": false,
     "tableResultSettingsMap": {},
     "title": ""
    }
   },
   "source": [
    "## 2 - Camada Bronze: Ingestão\n",
    "\n",
    "Busca os dados da API do BCB e salva as-is na camada Bronze"
   ]
  },
  {
   "cell_type": "code",
   "execution_count": 0,
   "metadata": {
    "application/vnd.databricks.v1+cell": {
     "cellMetadata": {
      "byteLimit": 2048000,
      "rowLimit": 10000
     },
     "inputWidgets": {},
     "nuid": "3e9ea3e6-7e7b-4803-ab90-a44c846062b8",
     "showTitle": false,
     "tableResultSettingsMap": {},
     "title": ""
    }
   },
   "outputs": [
    {
     "output_type": "stream",
     "name": "stdout",
     "output_type": "stream",
     "text": [
      "Iniciando Camada Bronze\nTabela Bronze criada/atualizada com sucesso: banco_ip2ca_catalog.bronze.ipca_raw\n"
     ]
    }
   ],
   "source": [
    "print(\"Iniciando Camada Bronze\")\n",
    "try:\n",
    "    df_raw_pd = fetch_data_from_api(API_URL)\n",
    "    spark_df_bronze = spark.createDataFrame(df_raw_pd)\n",
    "    spark_df_bronze = spark_df_bronze.withColumn(\"data_ingestao\", lit(datetime.now()))\n",
    "    \n",
    "    table_name_bronze = f\"{CATALOG}.{SCHEMA_BRONZE}.ipca_raw\"\n",
    "    spark_df_bronze.write.format(\"delta\").mode(\"overwrite\").option(\"overwriteSchema\", \"true\").saveAsTable(table_name_bronze)\n",
    "    print(f\"Tabela Bronze criada/atualizada com sucesso: {table_name_bronze}\")\n",
    "except Exception as e:\n",
    "    dbutils.notebook.exit(f\"Falha na camada Bronze. Código falhou por causa do erro: {e}\")"
   ]
  },
  {
   "cell_type": "markdown",
   "metadata": {
    "application/vnd.databricks.v1+cell": {
     "cellMetadata": {
      "byteLimit": 2048000,
      "rowLimit": 10000
     },
     "inputWidgets": {},
     "nuid": "3316e0c4-a975-4fbf-b9d6-e95c16558c3e",
     "showTitle": false,
     "tableResultSettingsMap": {},
     "title": ""
    }
   },
   "source": [
    "## 3 - Camada Silver: Limpeza e Preparação\n",
    "\n",
    "Lê os dados da Bronze, faz a limpeza, tipagem e renomeia colunas visando boas praticas. Particionando por ano pra otimizar as leituras futuras na camada Gold"
   ]
  },
  {
   "cell_type": "code",
   "execution_count": 0,
   "metadata": {
    "application/vnd.databricks.v1+cell": {
     "cellMetadata": {
      "byteLimit": 2048000,
      "rowLimit": 10000
     },
     "inputWidgets": {},
     "nuid": "58d62974-b814-45aa-9488-a48e33ce86a3",
     "showTitle": false,
     "tableResultSettingsMap": {},
     "title": ""
    }
   },
   "outputs": [
    {
     "output_type": "stream",
     "name": "stdout",
     "output_type": "stream",
     "text": [
      "\nIniciando Camada Silver\nTabela Silver criada/atualizada com sucesso: banco_ip2ca_catalog.silver.ipca_cleaned\n"
     ]
    }
   ],
   "source": [
    "print(\"\\nIniciando Camada Silver\")\n",
    "try:\n",
    "    df_bronze = spark.read.table(f\"{CATALOG}.{SCHEMA_BRONZE}.ipca_raw\")\n",
    "\n",
    "    current_year = datetime.now().year\n",
    "    start_year = current_year - ANOS_HISTORIA\n",
    "\n",
    "    df_silver = (\n",
    "        df_bronze\n",
    "        .withColumnRenamed(\"data\", \"data_referencia\")\n",
    "        .withColumnRenamed(\"valor\", \"ipca_percentual_mensal\")\n",
    "        .withColumn(\"ano\", year(col(\"data_referencia\")))\n",
    "        .filter(col(\"ano\") >= start_year)\n",
    "        .select(\"data_referencia\", \"ano\", \"ipca_percentual_mensal\")\n",
    "    )\n",
    "\n",
    "    table_name_silver = f\"{CATALOG}.{SCHEMA_SILVER}.ipca_cleaned\"\n",
    "    df_silver.write.format(\"delta\").mode(\"overwrite\").option(\"overwriteSchema\", \"true\").partitionBy(\"ano\").saveAsTable(table_name_silver)\n",
    "    print(f\"Tabela Silver criada/atualizada com sucesso: {table_name_silver}\")\n",
    "except Exception as e:\n",
    "    dbutils.notebook.exit(f\"Falha na camada Silver. Código falhou por causa do erro: {e}\")"
   ]
  },
  {
   "cell_type": "markdown",
   "metadata": {
    "application/vnd.databricks.v1+cell": {
     "cellMetadata": {
      "byteLimit": 2048000,
      "rowLimit": 10000
     },
     "inputWidgets": {},
     "nuid": "cdce0e27-0ac0-4eea-b3a2-7ea8f0c93ddd",
     "showTitle": true,
     "tableResultSettingsMap": {},
     "title": ""
    }
   },
   "source": [
    "## 4 - Camada Gold: Tabela final\n",
    "\n",
    "A partir da Silver, é criado a tabela GOLD em que o Power BI vai consumir para gerar os gráficos e criar medidas DAX"
   ]
  },
  {
   "cell_type": "code",
   "execution_count": 0,
   "metadata": {
    "application/vnd.databricks.v1+cell": {
     "cellMetadata": {
      "byteLimit": 2048000,
      "rowLimit": 10000
     },
     "inputWidgets": {},
     "nuid": "7cf1761d-b9d7-467e-82c4-74fd8e43c789",
     "showTitle": false,
     "tableResultSettingsMap": {},
     "title": ""
    }
   },
   "outputs": [
    {
     "output_type": "stream",
     "name": "stdout",
     "output_type": "stream",
     "text": [
      "\nIniciando Camada Gold\nCriando a tabela de fatos 'ipca_mensal'...\nTabela de Fatos Gold 'banco_ip2ca_catalog.gold.ipca_mensal' criada com sucesso.\n"
     ]
    }
   ],
   "source": [
    "print(\"\\nIniciando Camada Gold\")\n",
    "try:\n",
    "    df_silver_gold = spark.read.table(f\"{CATALOG}.{SCHEMA_SILVER}.ipca_cleaned\")\n",
    "\n",
    "    print(\"Criando a tabela de fatos 'ipca_mensal'...\")\n",
    "    df_ipca_mensal = df_silver_gold.select(\n",
    "        col(\"data_referencia\").alias(\"data\"),\n",
    "        col(\"ano\"),\n",
    "        col(\"ipca_percentual_mensal\").alias(\"ipca_mensal_percentual\")\n",
    "    )\n",
    "    \n",
    "    table_name_gold_mensal = f\"{CATALOG}.{SCHEMA_GOLD}.ipca_mensal\"\n",
    "    df_ipca_mensal.write.format(\"delta\").mode(\"overwrite\").option(\"overwriteSchema\", \"true\").saveAsTable(table_name_gold_mensal)\n",
    "    print(f\"Tabela de Fatos Gold '{table_name_gold_mensal}' criada com sucesso.\")\n",
    "\n",
    "except Exception as e:\n",
    "    dbutils.notebook.exit(f\"Falha na camada Gold. Código falhou por causa do erro: {e}\")"
   ]
  },
  {
   "cell_type": "markdown",
   "metadata": {
    "application/vnd.databricks.v1+cell": {
     "cellMetadata": {
      "byteLimit": 2048000,
      "rowLimit": 10000
     },
     "inputWidgets": {},
     "nuid": "9f9ccad3-757a-4078-8489-53f806c67b1f",
     "showTitle": false,
     "tableResultSettingsMap": {},
     "title": ""
    },
    "jupyter": {
     "outputs_hidden": true
    }
   },
   "source": [
    "## 5 - Finalização do notebook\n",
    "Etapa final para finalizar o notebook e confirmar que o Pipeline rodou com sucesso"
   ]
  },
  {
   "cell_type": "code",
   "execution_count": 0,
   "metadata": {
    "application/vnd.databricks.v1+cell": {
     "cellMetadata": {
      "byteLimit": 2048000,
      "rowLimit": 10000
     },
     "inputWidgets": {},
     "nuid": "1ef926ab-d46f-428d-ad05-94e46bfc3087",
     "showTitle": false,
     "tableResultSettingsMap": {},
     "title": ""
    }
   },
   "outputs": [],
   "source": [
    "dbutils.notebook.exit(\"Pipeline completo executado com sucesso!\")"
   ]
  },
  {
   "cell_type": "markdown",
   "metadata": {
    "application/vnd.databricks.v1+cell": {
     "cellMetadata": {
      "byteLimit": 2048000,
      "rowLimit": 10000
     },
     "inputWidgets": {},
     "nuid": "d5d548d1-a1db-4a0c-be59-a5694a8c643c",
     "showTitle": false,
     "tableResultSettingsMap": {},
     "title": ""
    }
   },
   "source": [
    "> "
   ]
  }
 ],
 "metadata": {
  "application/vnd.databricks.v1+notebook": {
   "computePreferences": null,
   "dashboards": [],
   "environmentMetadata": {
    "base_environment": "",
    "environment_version": "2"
   },
   "inputWidgetPreferences": null,
   "language": "python",
   "notebookMetadata": {
    "pythonIndentUnit": 4
   },
   "notebookName": "pipeline-ipca",
   "widgets": {
    "anos_historia": {
     "currentValue": "30",
     "nuid": "d4fdf3d4-b8fe-4055-b223-425c87bf5dc3",
     "typedWidgetInfo": {
      "autoCreated": false,
      "defaultValue": "30",
      "label": "Anos a serem processados",
      "name": "anos_historia",
      "options": {
       "widgetDisplayType": "Text",
       "validationRegex": null
      },
      "parameterDataType": "String"
     },
     "widgetInfo": {
      "widgetType": "text",
      "defaultValue": "30",
      "label": "Anos a serem processados",
      "name": "anos_historia",
      "options": {
       "widgetType": "text",
       "autoCreated": null,
       "validationRegex": null
      }
     }
    },
    "api_url": {
     "currentValue": "https://api.bcb.gov.br/dados/serie/bcdata.sgs.433/dados?formato=json",
     "nuid": "58d02fa0-f12d-4ab9-97f5-b89ad8b090c6",
     "typedWidgetInfo": {
      "autoCreated": false,
      "defaultValue": "https://api.bcb.gov.br/dados/serie/bcdata.sgs.433/dados?formato=json",
      "label": "URL da API do BCB para IPCA",
      "name": "api_url",
      "options": {
       "widgetDisplayType": "Text",
       "validationRegex": null
      },
      "parameterDataType": "String"
     },
     "widgetInfo": {
      "widgetType": "text",
      "defaultValue": "https://api.bcb.gov.br/dados/serie/bcdata.sgs.433/dados?formato=json",
      "label": "URL da API do BCB para IPCA",
      "name": "api_url",
      "options": {
       "widgetType": "text",
       "autoCreated": null,
       "validationRegex": null
      }
     }
    },
    "base_path": {
     "currentValue": "/mnt/banco_ip2ca/ipca",
     "nuid": "9e837a25-b7a4-4b7c-a24c-411d969adfd3",
     "typedWidgetInfo": {
      "autoCreated": false,
      "defaultValue": "/mnt/banco_ip2ca/ipca",
      "label": "Caminho base no DBFS para as tabelas Delta",
      "name": "base_path",
      "options": {
       "widgetDisplayType": "Text",
       "validationRegex": null
      },
      "parameterDataType": "String"
     },
     "widgetInfo": {
      "widgetType": "text",
      "defaultValue": "/mnt/banco_ip2ca/ipca",
      "label": "Caminho base no DBFS para as tabelas Delta",
      "name": "base_path",
      "options": {
       "widgetType": "text",
       "autoCreated": null,
       "validationRegex": null
      }
     }
    }
   }
  },
  "language_info": {
   "name": "python"
  }
 },
 "nbformat": 4,
 "nbformat_minor": 0
}